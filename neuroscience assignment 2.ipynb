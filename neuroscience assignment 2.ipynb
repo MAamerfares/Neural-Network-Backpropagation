{
  "nbformat": 4,
  "nbformat_minor": 0,
  "metadata": {
    "colab": {
      "provenance": []
    },
    "kernelspec": {
      "name": "python3",
      "display_name": "Python 3"
    },
    "language_info": {
      "name": "python"
    }
  },
  "cells": [
    {
      "cell_type": "code",
      "execution_count": 31,
      "metadata": {
        "id": "ps4a0Ca-PzgP"
      },
      "outputs": [],
      "source": [
        "import torch\n",
        "import torch.nn as nn"
      ]
    },
    {
      "cell_type": "code",
      "source": [
        "class CustomModel(nn.Module):\n",
        "    def __init__(self):\n",
        "        super().__init__()\n",
        "        self.hidden_layer1 = nn.Linear(2, 2)  # First hidden layer\n",
        "        self.hidden_layer2 = nn.Linear(2, 2)  # Second hidden layer\n",
        "        self.output_layer = nn.Linear(2, 2)   # Output layer\n",
        "        self._initialize_weights()\n",
        "\n",
        "    def _initialize_weights(self):\n",
        "        with torch.no_grad():\n",
        "            # Weights and biases based on the image\n",
        "            self.hidden_layer1.weight.copy_(torch.tensor([[0.15, 0.20], [0.25, 0.30]]))\n",
        "            self.hidden_layer1.bias.copy_(torch.tensor([0.35, 0.35]))\n",
        "            self.hidden_layer2.weight.copy_(torch.tensor([[0.40, 0.45], [0.50, 0.55]]))\n",
        "            self.hidden_layer2.bias.copy_(torch.tensor([0.60, 0.60]))\n",
        "            self.output_layer.weight.copy_(torch.tensor([[0.593269992, 0.75136507], [0.596884378, 0.772928465]]))\n",
        "            self.output_layer.bias.copy_(torch.tensor([0.35, 0.60]))\n",
        "\n",
        "    def forward(self, x):\n",
        "        # Forward pass\n",
        "        self.hidden_input1 = self.hidden_layer1(x)\n",
        "        self.hidden_output1 = torch.sigmoid(self.hidden_input1)\n",
        "\n",
        "        self.hidden_input2 = self.hidden_layer2(self.hidden_output1)\n",
        "        self.hidden_output2 = torch.sigmoid(self.hidden_input2)\n",
        "\n",
        "        self.final_input = self.output_layer(self.hidden_output2)\n",
        "        self.final_output = torch.sigmoid(self.final_input)\n",
        "        return self.final_output"
      ],
      "metadata": {
        "id": "Kup-91PISaxM"
      },
      "execution_count": 32,
      "outputs": []
    },
    {
      "cell_type": "code",
      "source": [
        "model = CustomModel()\n",
        "input_tensor = torch.tensor([0.05, 0.10])  # Input values from the image\n",
        "target = torch.tensor([0.99, 0.01])        # Target values from the image\n",
        "output = model(input_tensor)"
      ],
      "metadata": {
        "id": "QuXMoVtISa0M"
      },
      "execution_count": 33,
      "outputs": []
    },
    {
      "cell_type": "code",
      "source": [
        "loss = 0.5 * torch.sum((target - output) ** 2)\n",
        "print(\"Loss:\", loss.item())\n",
        "\n",
        "learning_rate = 0.4\n",
        "delta_output = (output - target) * (output * (1 - output))"
      ],
      "metadata": {
        "colab": {
          "base_uri": "https://localhost:8080/"
        },
        "id": "VLEg9RDjSa3O",
        "outputId": "51f31d50-04ea-4133-aaeb-93e5d56ade23"
      },
      "execution_count": 34,
      "outputs": [
        {
          "output_type": "stream",
          "name": "stdout",
          "text": [
            "Loss: 0.3614194691181183\n"
          ]
        }
      ]
    },
    {
      "cell_type": "code",
      "source": [
        "with torch.no_grad():\n",
        "    for i in range(2):\n",
        "        for j in range(2):\n",
        "            model.output_layer.weight[i][j] -= learning_rate * delta_output[i] * model.hidden_output2[j]\n",
        "        model.output_layer.bias[i] -= learning_rate * delta_output[i]"
      ],
      "metadata": {
        "id": "ABrWPmCNSa6h"
      },
      "execution_count": 35,
      "outputs": []
    },
    {
      "cell_type": "code",
      "source": [
        "delta_hidden2 = torch.zeros(2)\n",
        "for i in range(2):\n",
        "    delta_hidden2[i] = (delta_output[0] * model.output_layer.weight[0][i] +\n",
        "                        delta_output[1] * model.output_layer.weight[1][i]) * (model.hidden_output2[i] * (1 - model.hidden_output2[i]))"
      ],
      "metadata": {
        "id": "2Ll4l3OXSa9X"
      },
      "execution_count": 36,
      "outputs": []
    },
    {
      "cell_type": "code",
      "source": [
        "with torch.no_grad():\n",
        "    for i in range(2):\n",
        "        for j in range(2):\n",
        "            model.hidden_layer2.weight[i][j] -= learning_rate * delta_hidden2[i] * model.hidden_output1[j]\n",
        "        model.hidden_layer2.bias[i] -= learning_rate * delta_hidden2[i]"
      ],
      "metadata": {
        "id": "0czoAxW2SbAq"
      },
      "execution_count": 37,
      "outputs": []
    },
    {
      "cell_type": "code",
      "source": [
        "delta_hidden1 = torch.zeros(2)\n",
        "for i in range(2):\n",
        "    delta_hidden1[i] = (delta_hidden2[0] * model.hidden_layer2.weight[0][i] +\n",
        "                        delta_hidden2[1] * model.hidden_layer2.weight[1][i]) * (model.hidden_output1[i] * (1 - model.hidden_output1[i]))"
      ],
      "metadata": {
        "id": "xHQymKi4SbDW"
      },
      "execution_count": 38,
      "outputs": []
    },
    {
      "cell_type": "code",
      "source": [
        "with torch.no_grad():\n",
        "    for i in range(2):\n",
        "        for j in range(2):\n",
        "            model.hidden_layer1.weight[i][j] -= learning_rate * delta_hidden1[i] * input_tensor[j]\n",
        "        model.hidden_layer1.bias[i] -= learning_rate * delta_hidden1[i]\n"
      ],
      "metadata": {
        "id": "STiKKsXVSbGW"
      },
      "execution_count": 39,
      "outputs": []
    },
    {
      "cell_type": "code",
      "source": [
        "print(\"Hidden Layer 1 Weights:\", model.hidden_layer1.weight)\n",
        "print(\"Hidden Layer 1 Biases:\", model.hidden_layer1.bias)\n",
        "print(\"Hidden Layer 2 Weights:\", model.hidden_layer2.weight)\n",
        "print(\"Hidden Layer 2 Biases:\", model.hidden_layer2.bias)\n",
        "print(\"Output Layer Weights:\", model.output_layer.weight)\n",
        "print(\"Output Layer Biases:\", model.output_layer.bias)"
      ],
      "metadata": {
        "colab": {
          "base_uri": "https://localhost:8080/"
        },
        "id": "Q9M2EKHHSbJO",
        "outputId": "6933beac-7975-42f3-ace0-b3abbe63ed82"
      },
      "execution_count": 40,
      "outputs": [
        {
          "output_type": "stream",
          "name": "stdout",
          "text": [
            "Hidden Layer 1 Weights: Parameter containing:\n",
            "tensor([[0.1500, 0.1999],\n",
            "        [0.2500, 0.2999]], requires_grad=True)\n",
            "Hidden Layer 1 Biases: Parameter containing:\n",
            "tensor([0.3492, 0.3491], requires_grad=True)\n",
            "Hidden Layer 2 Weights: Parameter containing:\n",
            "tensor([[0.3980, 0.4480],\n",
            "        [0.4975, 0.5475]], requires_grad=True)\n",
            "Hidden Layer 2 Biases: Parameter containing:\n",
            "tensor([0.5967, 0.5958], requires_grad=True)\n",
            "Output Layer Weights: Parameter containing:\n",
            "tensor([[0.6025, 0.7609],\n",
            "        [0.5631, 0.7382]], requires_grad=True)\n",
            "Output Layer Biases: Parameter containing:\n",
            "tensor([0.3623, 0.5551], requires_grad=True)\n"
          ]
        }
      ]
    }
  ]
}